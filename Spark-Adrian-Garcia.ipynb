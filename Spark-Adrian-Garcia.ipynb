{
 "cells": [
  {
   "cell_type": "markdown",
   "metadata": {},
   "source": [
    "# Práctica Spark Adrián García Bruzón"
   ]
  },
  {
   "cell_type": "markdown",
   "metadata": {},
   "source": [
    "## 1. Introduccion"
   ]
  },
  {
   "cell_type": "markdown",
   "metadata": {},
   "source": [
    "En el presente \"notebook\" se incluyen las soluciones implementadas a la práctica de la asignatura Sistemas Distribuidos 2"
   ]
  },
  {
   "cell_type": "markdown",
   "metadata": {},
   "source": [
    "## 2. Configuración inicial"
   ]
  },
  {
   "cell_type": "markdown",
   "metadata": {},
   "source": [
    "En esta sección se ejecutan las configuraciones iniciales de la API de Spark"
   ]
  },
  {
   "cell_type": "code",
   "execution_count": 2,
   "metadata": {},
   "outputs": [
    {
     "data": {
      "text/plain": [
       "'/usr/lib/jvm/java-8-openjdk-amd64'"
      ]
     },
     "execution_count": 2,
     "metadata": {},
     "output_type": "execute_result"
    }
   ],
   "source": [
    "# Este chunk es para ejecutarlo si tenemos dos versiones de Java instaladas en el sistema\n",
    "# Load external packages programatically\n",
    "import os\n",
    "# packages = \"com.databricks:spark-xml_2.11:0.5.0\"\n",
    "\n",
    "os.environ[\"JAVA_HOME\"] = \"/usr/lib/jvm/java-8-openjdk-amd64\"\n",
    "os.environ[\"JAVA_HOME\"]\n",
    "\n",
    "# os.environ[\"PYSPARK_SUBMIT_ARGS\"] = (\n",
    "#     \"--packages {0} pyspark-shell\".format(packages)\n",
    "# )"
   ]
  },
  {
   "cell_type": "markdown",
   "metadata": {},
   "source": [
    "Iniciamos la sesión Spark. Incluyendo el número de núcleos con el que vamos a trabajar y el nombre de la aplicación"
   ]
  },
  {
   "cell_type": "code",
   "execution_count": 96,
   "metadata": {},
   "outputs": [
    {
     "data": {
      "text/html": [
       "\n",
       "            <div>\n",
       "                <p><b>SparkSession - in-memory</b></p>\n",
       "                \n",
       "        <div>\n",
       "            <p><b>SparkContext</b></p>\n",
       "\n",
       "            <p><a href=\"http://DESKTOP-19EKEVQ:4040\">Spark UI</a></p>\n",
       "\n",
       "            <dl>\n",
       "              <dt>Version</dt>\n",
       "                <dd><code>v2.3.2</code></dd>\n",
       "              <dt>Master</dt>\n",
       "                <dd><code>local[*]</code></dd>\n",
       "              <dt>AppName</dt>\n",
       "                <dd><code>Practica TMDB-5000</code></dd>\n",
       "            </dl>\n",
       "        </div>\n",
       "        \n",
       "            </div>\n",
       "        "
      ],
      "text/plain": [
       "<pyspark.sql.session.SparkSession at 0x194c5ff3448>"
      ]
     },
     "execution_count": 96,
     "metadata": {},
     "output_type": "execute_result"
    }
   ],
   "source": [
    "import pyspark\n",
    "from pyspark.sql import SparkSession\n",
    "spark = (SparkSession.builder\n",
    "    .master(\"local[*]\")\n",
    "    .config(\"spark.driver.cores\", 1)\n",
    "    .appName(\"Practica TMDB-5000\")\n",
    "    .getOrCreate() )\n",
    "sc = spark.sparkContext\n",
    "\n",
    "spark"
   ]
  },
  {
   "cell_type": "markdown",
   "metadata": {},
   "source": [
    "## 3. Preprocesado"
   ]
  },
  {
   "cell_type": "code",
   "execution_count": 97,
   "metadata": {},
   "outputs": [],
   "source": [
    "# Importamos las librerias necesarias para la práctica\n",
    "from pyspark.sql import Row\n",
    "from pyspark.sql import Window\n",
    "from pyspark.sql import functions\n",
    "from datetime import datetime\n",
    "from pyspark.sql.types import *\n",
    "from pyspark.sql.functions import * # from_json, col, collect_list, getItem, desc, datediff\n",
    "\n",
    "\n",
    "from pprint import pprint\n",
    "import rapidjson\n",
    "import json"
   ]
  },
  {
   "cell_type": "code",
   "execution_count": 98,
   "metadata": {},
   "outputs": [],
   "source": [
    "# Define el data scheme para el archivo de créditos\n",
    "creditsSchema = StructType([StructField(\"movie_id\", LongType(), True), \n",
    "                           StructField(\"title\", StringType(), True),\n",
    "                           StructField(\"cast\", StringType(), True),\n",
    "                           StructField(\"crew\", StringType(), True)])"
   ]
  },
  {
   "cell_type": "code",
   "execution_count": 99,
   "metadata": {},
   "outputs": [],
   "source": [
    "# Define el data scheme para el archivo de peliculas\n",
    "moviesSchema = StructType([StructField(\"budget\", LongType(), True), \n",
    "                           StructField(\"genres\", StringType(), True),\n",
    "                           StructField(\"homepage\", StringType(), True),\n",
    "                           StructField(\"id\", LongType(), True),\n",
    "                           StructField(\"keywords\", StringType(), True),\n",
    "                           StructField(\"original_language\", StringType(), True),\n",
    "                           StructField(\"original_title\", StringType(), True),\n",
    "                           StructField(\"overview\", StringType(), True),\n",
    "                           StructField(\"popularity\", FloatType(), True),\n",
    "                           StructField(\"production_companies\", StringType(), True),\n",
    "                           StructField(\"production_countries\", StringType(), True),\n",
    "                           StructField(\"release_date\", DateType(), True),\n",
    "                           StructField(\"revenue\", LongType(), True), \n",
    "                           StructField(\"runtime\", LongType(), True), \n",
    "                           StructField(\"spoken_langugaes\", StringType(), True),\n",
    "                           StructField(\"status\", StringType(), True),\n",
    "                           StructField(\"tagline\", StringType(), True),\n",
    "                           StructField(\"title\", StringType(), True),\n",
    "                           StructField(\"vote_average\", FloatType(), True),\n",
    "                           StructField(\"vote_count\", FloatType(), True)])"
   ]
  },
  {
   "cell_type": "code",
   "execution_count": 100,
   "metadata": {},
   "outputs": [],
   "source": [
    "#Leemos el archivo créditos según el esquema definido\n",
    "credits = (spark.read.option(\"header\", \"true\")\n",
    "           .option(\"quote\", \"\\\"\")  # Tuning escape double quotes\n",
    "           .option(\"escape\", \"\\\"\") # Tuning escape double quotes\n",
    "           .csv(\"./tmdb_5000_credits.csv\", schema=creditsSchema)\n",
    "          )"
   ]
  },
  {
   "cell_type": "code",
   "execution_count": 101,
   "metadata": {},
   "outputs": [
    {
     "name": "stdout",
     "output_type": "stream",
     "text": [
      "root\n",
      " |-- movie_id: long (nullable = true)\n",
      " |-- title: string (nullable = true)\n",
      " |-- cast: string (nullable = true)\n",
      " |-- crew: string (nullable = true)\n",
      "\n"
     ]
    }
   ],
   "source": [
    "credits.printSchema()"
   ]
  },
  {
   "cell_type": "code",
   "execution_count": 102,
   "metadata": {},
   "outputs": [],
   "source": [
    "#Leemos el archivo películas según el esquema definido\n",
    "movies = (spark.read.option(\"header\", \"true\")\n",
    "           .option(\"dateFormat\", \"yyyy-MM-dd\") \n",
    "           .option(\"quote\", \"\\\"\")  # Tuning escape double quotes\n",
    "           .option(\"escape\", \"\\\"\") # Tuning escape double quotes\n",
    "           .csv(\"./tmdb_5000_movies.csv\", schema=moviesSchema)\n",
    "          )"
   ]
  },
  {
   "cell_type": "code",
   "execution_count": 103,
   "metadata": {},
   "outputs": [
    {
     "name": "stdout",
     "output_type": "stream",
     "text": [
      "root\n",
      " |-- budget: long (nullable = true)\n",
      " |-- genres: string (nullable = true)\n",
      " |-- homepage: string (nullable = true)\n",
      " |-- id: long (nullable = true)\n",
      " |-- keywords: string (nullable = true)\n",
      " |-- original_language: string (nullable = true)\n",
      " |-- original_title: string (nullable = true)\n",
      " |-- overview: string (nullable = true)\n",
      " |-- popularity: float (nullable = true)\n",
      " |-- production_companies: string (nullable = true)\n",
      " |-- production_countries: string (nullable = true)\n",
      " |-- release_date: date (nullable = true)\n",
      " |-- revenue: long (nullable = true)\n",
      " |-- runtime: long (nullable = true)\n",
      " |-- spoken_langugaes: string (nullable = true)\n",
      " |-- status: string (nullable = true)\n",
      " |-- tagline: string (nullable = true)\n",
      " |-- title: string (nullable = true)\n",
      " |-- vote_average: float (nullable = true)\n",
      " |-- vote_count: float (nullable = true)\n",
      "\n"
     ]
    }
   ],
   "source": [
    "movies.printSchema()"
   ]
  },
  {
   "cell_type": "code",
   "execution_count": 104,
   "metadata": {},
   "outputs": [],
   "source": [
    "# Creamos el esquema para las variables json que hemos encontrado en el archivo créditos\n",
    "cast_json_schema = ArrayType(StructType([StructField(\"cast_id\", IntegerType()),\n",
    "                                         StructField(\"character\", StringType()),\n",
    "                                         StructField(\"credit_id\", StringType()),\n",
    "                                         StructField(\"gender\", StringType()),\n",
    "                                         StructField(\"id\", IntegerType()),\n",
    "                                         StructField(\"name\", StringType()),\n",
    "                                         StructField(\"order\", IntegerType())]))\n",
    "\n",
    "crew_json_schema = ArrayType(StructType([StructField(\"credit_id\", StringType()),\n",
    "                                         StructField(\"department\", StringType()),\n",
    "                                         StructField(\"gender\", StringType()),\n",
    "                                         StructField(\"id\", IntegerType()),\n",
    "                                         StructField(\"job\", StringType()),\n",
    "                                         StructField(\"name\", StringType())]))"
   ]
  },
  {
   "cell_type": "code",
   "execution_count": 105,
   "metadata": {},
   "outputs": [],
   "source": [
    "# Creamos el esquema para las variables json que hemos encontrado en el archivo películas\n",
    "genres_json_schema = ArrayType(StructType([StructField(\"id\", IntegerType()),\n",
    "                                         StructField(\"name\", StringType())]))\n",
    "\n",
    "keywords_json_schema = ArrayType(StructType([StructField(\"id\", IntegerType()),\n",
    "                                         StructField(\"name\", StringType())]))\n",
    "\n",
    "pro_companies_json_schema = ArrayType(StructType([StructField(\"id\", IntegerType()),\n",
    "                                         StructField(\"name\", StringType())]))\n",
    "\n",
    "pro_countries_json_schema = ArrayType(StructType([StructField(\"iso_3166_1\", StringType()),\n",
    "                                         StructField(\"name\", StringType())]))\n",
    "\n",
    "spoken_json_schema = ArrayType(StructType([StructField(\"iso_3166_1\", StringType()),\n",
    "                                         StructField(\"name\", StringType())]))"
   ]
  },
  {
   "cell_type": "code",
   "execution_count": 106,
   "metadata": {},
   "outputs": [],
   "source": [
    "# Usamos la función \"from json\" para incluir las columnas enbebidas dentro de las columnas json\n",
    "# Manteniendo el esquema general del dataframe del archivo créditos\n",
    "credits = (credits.withColumn('cast', from_json(col('cast'), cast_json_schema))\n",
    "           .withColumn('crew', from_json(col('crew'), crew_json_schema)) )"
   ]
  },
  {
   "cell_type": "code",
   "execution_count": 107,
   "metadata": {},
   "outputs": [
    {
     "name": "stdout",
     "output_type": "stream",
     "text": [
      "root\n",
      " |-- movie_id: long (nullable = true)\n",
      " |-- title: string (nullable = true)\n",
      " |-- cast: array (nullable = true)\n",
      " |    |-- element: struct (containsNull = true)\n",
      " |    |    |-- cast_id: integer (nullable = true)\n",
      " |    |    |-- character: string (nullable = true)\n",
      " |    |    |-- credit_id: string (nullable = true)\n",
      " |    |    |-- gender: string (nullable = true)\n",
      " |    |    |-- id: integer (nullable = true)\n",
      " |    |    |-- name: string (nullable = true)\n",
      " |    |    |-- order: integer (nullable = true)\n",
      " |-- crew: array (nullable = true)\n",
      " |    |-- element: struct (containsNull = true)\n",
      " |    |    |-- credit_id: string (nullable = true)\n",
      " |    |    |-- department: string (nullable = true)\n",
      " |    |    |-- gender: string (nullable = true)\n",
      " |    |    |-- id: integer (nullable = true)\n",
      " |    |    |-- job: string (nullable = true)\n",
      " |    |    |-- name: string (nullable = true)\n",
      "\n"
     ]
    }
   ],
   "source": [
    "credits.printSchema()"
   ]
  },
  {
   "cell_type": "code",
   "execution_count": 108,
   "metadata": {},
   "outputs": [],
   "source": [
    "# De la misma forma para el archivo películas\n",
    "movies = (movies.withColumn('genres', from_json(col('genres'), genres_json_schema))\n",
    "           .withColumn('keywords', from_json(col('keywords'), keywords_json_schema))\n",
    "           .withColumn('production_companies', from_json(col('production_companies'), pro_companies_json_schema)) \n",
    "           .withColumn('production_countries', from_json(col('production_countries'), pro_countries_json_schema)) \n",
    "           .withColumn('spoken_langugaes', from_json(col('spoken_langugaes'), spoken_json_schema)))       "
   ]
  },
  {
   "cell_type": "code",
   "execution_count": 109,
   "metadata": {},
   "outputs": [
    {
     "name": "stdout",
     "output_type": "stream",
     "text": [
      "root\n",
      " |-- budget: long (nullable = true)\n",
      " |-- genres: array (nullable = true)\n",
      " |    |-- element: struct (containsNull = true)\n",
      " |    |    |-- id: integer (nullable = true)\n",
      " |    |    |-- name: string (nullable = true)\n",
      " |-- homepage: string (nullable = true)\n",
      " |-- id: long (nullable = true)\n",
      " |-- keywords: array (nullable = true)\n",
      " |    |-- element: struct (containsNull = true)\n",
      " |    |    |-- id: integer (nullable = true)\n",
      " |    |    |-- name: string (nullable = true)\n",
      " |-- original_language: string (nullable = true)\n",
      " |-- original_title: string (nullable = true)\n",
      " |-- overview: string (nullable = true)\n",
      " |-- popularity: float (nullable = true)\n",
      " |-- production_companies: array (nullable = true)\n",
      " |    |-- element: struct (containsNull = true)\n",
      " |    |    |-- id: integer (nullable = true)\n",
      " |    |    |-- name: string (nullable = true)\n",
      " |-- production_countries: array (nullable = true)\n",
      " |    |-- element: struct (containsNull = true)\n",
      " |    |    |-- iso_3166_1: string (nullable = true)\n",
      " |    |    |-- name: string (nullable = true)\n",
      " |-- release_date: date (nullable = true)\n",
      " |-- revenue: long (nullable = true)\n",
      " |-- runtime: long (nullable = true)\n",
      " |-- spoken_langugaes: array (nullable = true)\n",
      " |    |-- element: struct (containsNull = true)\n",
      " |    |    |-- iso_3166_1: string (nullable = true)\n",
      " |    |    |-- name: string (nullable = true)\n",
      " |-- status: string (nullable = true)\n",
      " |-- tagline: string (nullable = true)\n",
      " |-- title: string (nullable = true)\n",
      " |-- vote_average: float (nullable = true)\n",
      " |-- vote_count: float (nullable = true)\n",
      "\n"
     ]
    }
   ],
   "source": [
    "movies.printSchema()"
   ]
  },
  {
   "cell_type": "code",
   "execution_count": 110,
   "metadata": {},
   "outputs": [],
   "source": [
    "#En este chunk vamos a filtrar el dataframe eliminando los registros nulos de las variables que vamos a utilizar\n",
    "movies = movies.filter(\"title != '0'\")\n",
    "movies = movies.filter(\"release_date != 'null'\")"
   ]
  },
  {
   "cell_type": "markdown",
   "metadata": {},
   "source": [
    "## 4. Resultados de las consultas"
   ]
  },
  {
   "cell_type": "markdown",
   "metadata": {},
   "source": [
    "### 4.1 Consulta 1\n",
    "Obtener el ranking de las 10 mejores películas de toda la lista según el promedio de puntuación de votación (vote_average) obtenido."
   ]
  },
  {
   "cell_type": "code",
   "execution_count": 111,
   "metadata": {},
   "outputs": [
    {
     "name": "stdout",
     "output_type": "stream",
     "text": [
      "+--------------------+----------+\n",
      "|              Titulo|Puntuación|\n",
      "+--------------------+----------+\n",
      "|    Stiff Upper Lips|      10.0|\n",
      "|Dancer, Texas Pop...|      10.0|\n",
      "|Me You and Five B...|      10.0|\n",
      "|      Little Big Top|      10.0|\n",
      "|           Sardaarji|       9.5|\n",
      "|      One Man's Hero|       9.3|\n",
      "|The Shawshank Red...|       8.5|\n",
      "|  There Goes My Baby|       8.5|\n",
      "|The Prisoner of Z...|       8.4|\n",
      "|       The Godfather|       8.4|\n",
      "+--------------------+----------+\n",
      "\n"
     ]
    }
   ],
   "source": [
    "ran_vote =(movies\n",
    " .select(col('title').alias('Titulo'), col('vote_average').alias('Puntuación')).sort(desc(\"vote_average\"))\n",
    " .limit(10))\n",
    "ran_vote.show()"
   ]
  },
  {
   "cell_type": "markdown",
   "metadata": {},
   "source": [
    "### 4.2 Consulta 2\n",
    "Obtener el ranking de los 10 géneros de películas que han tenido mayor presupuesto promedio por género."
   ]
  },
  {
   "cell_type": "code",
   "execution_count": 112,
   "metadata": {},
   "outputs": [
    {
     "name": "stdout",
     "output_type": "stream",
     "text": [
      "+---------------+-----------+\n",
      "|         Genero|Presupuesto|\n",
      "+---------------+-----------+\n",
      "|         Action|59443406599|\n",
      "|      Adventure|52391220463|\n",
      "|          Drama|47498112157|\n",
      "|         Comedy|43582711809|\n",
      "|       Thriller|40727495424|\n",
      "|Science Fiction|27748069865|\n",
      "|        Fantasy|26942696595|\n",
      "|         Family|26019109625|\n",
      "|          Crime|19383466474|\n",
      "|        Romance|18158357743|\n",
      "+---------------+-----------+\n",
      "\n"
     ]
    }
   ],
   "source": [
    "gen_bud = (movies.select(col('title'),\n",
    "               explode(col('genres')).alias('genres'), col('budget'))\n",
    " .select(col('title'), col('genres').getItem('name').alias('Genero'), col('budget').alias('Presupuesto'))\n",
    " .groupBy(col('Genero'))\n",
    " .sum(\"Presupuesto\")\n",
    " .withColumnRenamed(\"sum(Presupuesto)\", \"Presupuesto\")\n",
    " .sort(desc(\"Presupuesto\"))\n",
    " .limit(10))\n",
    "gen_bud.show()"
   ]
  },
  {
   "cell_type": "markdown",
   "metadata": {},
   "source": [
    "### 4.3 Consulta 3\n",
    "Encuentra a la persona (miembro del casting o del equipo) que ha participado en más películas. Después, encuentra al director que ha participado en más películas."
   ]
  },
  {
   "cell_type": "code",
   "execution_count": 113,
   "metadata": {},
   "outputs": [
    {
     "name": "stdout",
     "output_type": "stream",
     "text": [
      "+-------------------+-----+\n",
      "|            Persona|count|\n",
      "+-------------------+-----+\n",
      "|        Avy Kaufman|   83|\n",
      "|       Mary Vernieu|   81|\n",
      "|     Deborah Aquila|   74|\n",
      "|        Hans Zimmer|   71|\n",
      "|James Newton Howard|   68|\n",
      "|   Harvey Weinstein|   68|\n",
      "|        Tricia Wood|   67|\n",
      "|      Bob Weinstein|   67|\n",
      "|  Samuel L. Jackson|   67|\n",
      "|   Steven Spielberg|   65|\n",
      "+-------------------+-----+\n",
      "only showing top 10 rows\n",
      "\n"
     ]
    }
   ],
   "source": [
    "#Creamos un dataframe con las veces que una persona del casting a trabajado en una pelicula\n",
    "\n",
    "casting = (credits.select(col('title'),explode(col('cast')).alias('cast')) \n",
    " .select(col('title').alias('Pelicula'),col('cast').getItem('name').alias('Persona'))\n",
    "         .drop_duplicates()\n",
    "         .groupBy('Persona')\n",
    "         .count()\n",
    "          )\n",
    "\n",
    "#Creamos un dataframe con las veces que una persona del equipo a trabajado en una pelicula\n",
    "crew = (credits.select(col('title'), explode(col('crew')).alias('crew')) \n",
    " .select(col('title'), col('crew').getItem('name').alias('Persona'))\n",
    "        .drop_duplicates()\n",
    "        .groupBy('Persona')\n",
    "        .count()\n",
    "        )\n",
    "\n",
    "#Unimos por filas los dos dataframe.\n",
    "\n",
    "casting_crew = casting.union(crew).orderBy('count', ascending=False)\n",
    "casting_crew.show(10)"
   ]
  },
  {
   "cell_type": "code",
   "execution_count": 114,
   "metadata": {},
   "outputs": [
    {
     "name": "stdout",
     "output_type": "stream",
     "text": [
      "+----------------+-----+\n",
      "|         Persona|count|\n",
      "+----------------+-----+\n",
      "|Steven Spielberg|   27|\n",
      "+----------------+-----+\n",
      "\n"
     ]
    }
   ],
   "source": [
    "# Mostramos el director que ha participado en más peliculas\n",
    "best_dir =(credits.select(explode(col('crew')).alias('crew')) \n",
    " .select(col('crew').getItem('name').alias('Persona'), col('crew').getItem('job').alias('Trabajo'))\n",
    " .filter(\"Trabajo == 'Director'\")\n",
    " .groupBy('Persona')\n",
    " .count()            \n",
    " .orderBy('count', ascending=False)            \n",
    " .limit(1))\n",
    "best_dir.show()"
   ]
  },
  {
   "cell_type": "markdown",
   "metadata": {},
   "source": [
    "Se puede ver como Steven Spielberg aparece en la primera subconulta con un count de 65 mientras que solo a dirigido 27 peliculas. Esto es que este director también ha trabajado en otras peliculas como guionista etc. "
   ]
  },
  {
   "cell_type": "markdown",
   "metadata": {},
   "source": [
    "### 4.4 Consulta 4\n",
    "Utilizando como referencia la fecha de lanzamiento de la película, calcula para cada director el tiempo medio que transcurre entre la dirección de una película y la dirección de la siguiente. Calcula el ranking de los 10 directores cuyo tiempo medio entre películas sea el más bajo."
   ]
  },
  {
   "cell_type": "code",
   "execution_count": 115,
   "metadata": {},
   "outputs": [
    {
     "name": "stdout",
     "output_type": "stream",
     "text": [
      "+-----------------+----------+\n",
      "|         Director|   Estreno|\n",
      "+-----------------+----------+\n",
      "|    James Cameron|2009-12-10|\n",
      "|   Gore Verbinski|2007-05-19|\n",
      "|       Sam Mendes|2015-10-26|\n",
      "|Christopher Nolan|2012-07-16|\n",
      "|   Andrew Stanton|2012-03-07|\n",
      "|        Sam Raimi|2007-05-01|\n",
      "|     Byron Howard|2010-11-24|\n",
      "|     Nathan Greno|2010-11-24|\n",
      "|      Joss Whedon|2015-04-22|\n",
      "|      David Yates|2009-07-07|\n",
      "+-----------------+----------+\n",
      "only showing top 10 rows\n",
      "\n"
     ]
    }
   ],
   "source": [
    "#En esta consulta necesitamos información de ambos datasets por lo que vamos a extraer las columnas necesarias en variables\n",
    "directores = (credits.select(col('title'),\n",
    "             explode(col('crew')).alias('crew')) \n",
    "             .select(col('title').alias('Pelicula'), col('crew').getItem('name').alias('Director'), \n",
    "             col('crew').getItem('job').alias('Trabajo'))\n",
    "             .filter(\"Trabajo == 'Director'\"))\n",
    "\n",
    "estrenos = movies.select(col('title').alias('Pelicula'), col('release_date').alias('Estreno'))\n",
    "\n",
    "#Posterirmente vamos a unirlas en un unico dataframe de trabajo\n",
    "dir_est= (directores.join(estrenos, directores.Pelicula == estrenos.Pelicula)\n",
    "         .select(directores.Director, estrenos.Estreno))\n",
    "dir_est.show(10)"
   ]
  },
  {
   "cell_type": "code",
   "execution_count": 116,
   "metadata": {},
   "outputs": [
    {
     "name": "stdout",
     "output_type": "stream",
     "text": [
      "+-----------------+------------+\n",
      "|         Director|Tiempo_medio|\n",
      "+-----------------+------------+\n",
      "|   Aleksey German|         0.0|\n",
      "|   Allison Anders|       689.0|\n",
      "|       Bobby Roth|         0.0|\n",
      "|     Jim Jarmusch|         0.0|\n",
      "|      John Milius|      1071.0|\n",
      "|       John Wells|       322.5|\n",
      "|       Rob Bowman|      1034.0|\n",
      "|  Thomas Langmann|         0.0|\n",
      "|Wash Westmoreland|      1552.5|\n",
      "|     Wayne Kramer|       542.5|\n",
      "+-----------------+------------+\n",
      "only showing top 10 rows\n",
      "\n"
     ]
    }
   ],
   "source": [
    "#Creamos una ventana para poder particionar el datafreme por Director, ordenandolas por fechas de estreno. \n",
    "overCategory = Window.partitionBy(\"Director\").orderBy(\"Estreno\")\n",
    "\n",
    "#Con esta ventana creamos una nueva columna que nos da el siguiente estreno de cada director.\n",
    "dir_est = dir_est.withColumn(\n",
    "  \"lead\", lead(\"Estreno\", 1).over(overCategory)).select(\"Director\", \"Estreno\", \"lead\")\n",
    "\n",
    "#Calculamos los días entre estrenos, sumando cero días cuando no hay estrenos posteriores\n",
    "dif_dir = dir_est.withColumn(\n",
    "    \"tiempo_trabajos\", when(col(\"lead\").isNull(), 0).otherwise(datediff('lead', \"Estreno\")))\n",
    "\n",
    "#Finalmente calculamos el tiempo medio en dias que transcurre entre la dirección de una película y la dirección de la siguiente.\n",
    "# Los tiempos ceros son para directores que solo han dirigido una pelicula. \n",
    "avg_dir = (dif_dir.groupBy('Director')\n",
    "         .agg(functions.avg('tiempo_trabajos'))\n",
    "         .withColumnRenamed(\"avg(tiempo_trabajos)\", \"Tiempo_medio\")\n",
    "         .show(10))"
   ]
  },
  {
   "cell_type": "code",
   "execution_count": 117,
   "metadata": {},
   "outputs": [
    {
     "name": "stdout",
     "output_type": "stream",
     "text": [
      "+------------------+------------+\n",
      "|          Director|Tiempo_medio|\n",
      "+------------------+------------+\n",
      "| Michael O. Sajbel|         3.5|\n",
      "|  Christian Alvart|        13.0|\n",
      "|    Youssef Delara|        19.5|\n",
      "|      Darren Stein|        24.0|\n",
      "|  Robert Greenwald|        29.0|\n",
      "|Michael Landon Jr.|        63.0|\n",
      "|       J.B. Rogers|        75.5|\n",
      "| Richard Schenkman|        80.0|\n",
      "|         Fred Wolf|       101.5|\n",
      "|       Jason Trost|       113.5|\n",
      "+------------------+------------+\n",
      "only showing top 10 rows\n",
      "\n"
     ]
    }
   ],
   "source": [
    "#Por último mostramos el ranking de los 10 directores cuyo tiempo medio entre películas es el más bajo.\n",
    "ran10dir = (dif_dir.groupBy('Director')\n",
    "         .agg(functions.avg('tiempo_trabajos'))\n",
    "         .withColumnRenamed(\"avg(tiempo_trabajos)\", \"Tiempo_medio\")\n",
    "         .filter('Tiempo_medio > 0')\n",
    "         .orderBy(\"Tiempo_medio\"))\n",
    "\n",
    "ran10dir.show(10)\n"
   ]
  },
  {
   "cell_type": "markdown",
   "metadata": {},
   "source": [
    "## 6. Conversión de resultados a Pandas DataFrames"
   ]
  },
  {
   "cell_type": "code",
   "execution_count": 118,
   "metadata": {},
   "outputs": [],
   "source": [
    "#Consulta 1\n",
    "ran_vote = gen_bud.toPandas()\n",
    "\n",
    "#Consulta 2\n",
    "gen_bud = gen_bud.toPandas()\n",
    "\n",
    "#Consulta 3\n",
    "casting_crew = casting_crew.toPandas()\n",
    "best_dir = best_dir.toPandas()\n",
    "\n",
    "#Consulta 4\n",
    "ran10dir= ran10dir.toPandas()"
   ]
  },
  {
   "cell_type": "markdown",
   "metadata": {},
   "source": [
    "## 6. Cerrar la sesión Spark"
   ]
  },
  {
   "cell_type": "code",
   "execution_count": 129,
   "metadata": {},
   "outputs": [],
   "source": [
    "spark.stop()"
   ]
  }
 ],
 "metadata": {
  "kernelspec": {
   "display_name": "Python 3",
   "language": "python",
   "name": "python3"
  },
  "language_info": {
   "codemirror_mode": {
    "name": "ipython",
    "version": 3
   },
   "file_extension": ".py",
   "mimetype": "text/x-python",
   "name": "python",
   "nbconvert_exporter": "python",
   "pygments_lexer": "ipython3",
   "version": "3.7.6"
  }
 },
 "nbformat": 4,
 "nbformat_minor": 2
}
